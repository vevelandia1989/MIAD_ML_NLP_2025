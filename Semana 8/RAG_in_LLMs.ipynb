{
 "cells": [
  {
   "cell_type": "code",
   "execution_count": 24,
   "id": "7df13730-00a9-410a-a778-9aa139656b8b",
   "metadata": {},
   "outputs": [],
   "source": [
    "import boto3\n",
    "import json\n",
    "import pandas as pd\n",
    "import numpy as np\n",
    "from sklearn.metrics.pairwise import cosine_similarity\n",
    "\n",
    "\n",
    "def get_embedding(prompt_data, boto3_bedrock):\n",
    "    body = json.dumps({\"inputText\": prompt_data})\n",
    "    modelId = \"amazon.titan-embed-text-v1\"  # (Change this to try different embedding models)\n",
    "    accept = \"application/json\"\n",
    "    contentType = \"application/json\"\n",
    "\n",
    "    response = boto3_bedrock.invoke_model(\n",
    "        body=body, modelId=modelId, accept=accept, contentType=contentType\n",
    "    )\n",
    "    response_body = json.loads(response.get(\"body\").read())\n",
    "\n",
    "    embedding = response_body.get(\"embedding\")\n",
    "    return embedding\n",
    "\n",
    "\n",
    "def invoke_model(prompt_data, question, boto3_bedrock):\n",
    "\n",
    "    model_input_dict = {'anthropic_version': 'bedrock-2023-05-31',\n",
    "                        'max_tokens': 20000,\n",
    "                        'system': prompt_data,\n",
    "                        \"messages\" : question}\n",
    "\n",
    "    body = json.dumps(model_input_dict)\n",
    "\n",
    "    modelId = 'anthropic.claude-3-sonnet-20240229-v1:0'  # change this to use a different version from the model provider\n",
    "    accept = \"application/json\"\n",
    "    contentType = \"application/json\"\n",
    "\n",
    "    response = boto3_bedrock.invoke_model(\n",
    "        body=body, modelId=modelId, accept=accept, contentType=contentType\n",
    "    )\n",
    "    response_body = json.loads(response.get(\"body\").read())\n",
    "\n",
    "    response_string = response_body['content'][0]['text']\n",
    "    response_string = response_string.strip()\n",
    "\n",
    "    return response_string\n",
    "\n",
    "\n",
    "def answer_question(question, boto3_bedrock, prompt=\"\"):\n",
    "    user_request = \"<request>\" + question + \"</request>\"\n",
    "    messages = [{\"role\": \"user\", \"content\": user_request}]\n",
    "    return invoke_model(prompt, messages, boto3_bedrock)\n",
    "\n",
    "\n",
    "def compute_closest_texts(question, embeddings, boto3_bedrock, embedding_column = 'embedding'):\n",
    "    target_embedding = get_embedding(question, boto3_bedrock)\n",
    "\n",
    "    vector_array = np.array(target_embedding)\n",
    "    matrix_array = np.array([emb for emb in embeddings[embedding_column]])\n",
    "\n",
    "    vector_array = vector_array.reshape(1, -1)\n",
    "\n",
    "    # Compute cosine similarity\n",
    "    similarities = cosine_similarity(vector_array, matrix_array)\n",
    "\n",
    "    n_texts = len(similarities)-1\n",
    "    \n",
    "    # Flatten the similarities matrix and get the indices of the top 3 similarities\n",
    "    top_indices = np.argpartition(similarities.flatten(), -n_texts)[-n_texts:]\n",
    "    top_indices = top_indices[np.argsort(similarities.flatten()[top_indices])][::-1]\n",
    "    \n",
    "    return top_indices\n",
    "\n",
    "\n",
    "def enhance_prompt(question, df, boto3_bedrock, num_contexts=5):\n",
    "    top_indices=compute_closest_texts(question, df, boto3_bedrock, embedding_column = 'embedding')\n",
    "\n",
    "    prompt = f\"\"\"\n",
    "    <task_instructions> Eres un experto en política colombiana. El usuario te va a hacer una pregunta\n",
    "    y tú debes responderla basado en los textos de contexto que están a continuación. Evita\n",
    "    decir cosas que no se mencionen en los textos. Si los textos no contienen información relevante para\n",
    "    responder la pregunta, responde que no tienes una respuesta. En tu respuesta evita mencionar los textos,\n",
    "    con frases como \"de acuerdo con los textos proporcionados\". Tu respuesta debe ser escrita en un párrafo y evita\n",
    "    escribirla como una lista de puntos.\n",
    "    \"\"\"\n",
    "\n",
    "    for i in range(num_contexts):\n",
    "        prompt += f\"\"\" \n",
    "        <context_text>\n",
    "        {df.loc[top_indices[i], 'content']}\n",
    "        </context_text>\n",
    "        \"\"\"\n",
    "\n",
    "    return prompt"
   ]
  },
  {
   "cell_type": "markdown",
   "id": "61940a91-64c3-43e2-b90b-25f643f5e8a9",
   "metadata": {},
   "source": [
    "Inicializar el cliente a Bedrock:"
   ]
  },
  {
   "cell_type": "code",
   "execution_count": 2,
   "id": "6fb127ac-3ca5-4650-8007-390c08e268f9",
   "metadata": {},
   "outputs": [],
   "source": [
    "boto3_bedrock = boto3.client(\n",
    "    service_name='bedrock-runtime',\n",
    "    region_name=\"us-east-1\"\n",
    ")"
   ]
  },
  {
   "cell_type": "code",
   "execution_count": 3,
   "id": "175c39f8-d3ff-4af0-bc0a-b53514a6ca63",
   "metadata": {},
   "outputs": [
    {
     "name": "stdout",
     "output_type": "stream",
     "text": [
      "La capital de Colombia es Bogotá.\n",
      "\n",
      "Bogotá es la ciudad más grande y poblada de Colombia. Está ubicada en la región central del país, en la cordillera Oriental de los Andes. Además de ser la capital política, Bogotá es el principal centro económico, cultural y turístico de Colombia.\n",
      "\n",
      "Algunas características importantes de Bogotá:\n",
      "\n",
      "- Fue fundada el 6 de agosto de 1538 por Gonzalo Jiménez de Quesada.\n",
      "\n",
      "- Tiene una población metropolitana de aproximadamente 8 millones de habitantes.\n",
      "\n",
      "- Su altitud promedio es de 2.625 metros sobre el nivel del mar.\n",
      "\n",
      "- Alberga la sede del gobierno colombiano con la Casa de Nariño (residencia del Presidente) y los principales ministerios.\n",
      "\n",
      "- Es un importante centro financiero, empresarial y de servicios de América Latina.\n",
      "\n",
      "- Posee numerosos museos, teatros, centros culturales y sitios turísticos como La Candelaria, el Cerro de Monserrate y Usaquén.\n",
      "\n",
      "Así que en resumen, Bogotá es la indiscutible capital política, económica y cultural de la República de Colombia.\n"
     ]
    }
   ],
   "source": [
    "model_input_dict = {'anthropic_version': 'bedrock-2023-05-31',\n",
    "                    'max_tokens': 20000,\n",
    "                    'system': '',\n",
    "                    \"messages\" : [{\"role\": \"user\", \"content\": \"Cuál es la capital de Colombia?\"}]}\n",
    "\n",
    "body = json.dumps(model_input_dict)\n",
    "\n",
    "modelId = 'anthropic.claude-3-sonnet-20240229-v1:0'  # change this to use a different version from the model provider\n",
    "accept = \"application/json\"\n",
    "contentType = \"application/json\"\n",
    "\n",
    "response = boto3_bedrock.invoke_model(\n",
    "    body=body, modelId=modelId, accept=accept, contentType=contentType\n",
    ")\n",
    "response_body = json.loads(response.get(\"body\").read())\n",
    "\n",
    "response_string = response_body['content'][0]['text']\n",
    "response_string = response_string.strip()\n",
    "\n",
    "print(response_string)"
   ]
  },
  {
   "cell_type": "markdown",
   "id": "c5d23dd9-0335-4df9-84d0-9935e09d8d15",
   "metadata": {},
   "source": [
    "### Ejemplo sin prompt:"
   ]
  },
  {
   "cell_type": "code",
   "execution_count": 4,
   "id": "b7176a9a-dbdf-4a78-ac57-794020fefd50",
   "metadata": {},
   "outputs": [
    {
     "name": "stdout",
     "output_type": "stream",
     "text": [
      "El escándalo de los \"carrotanques\" o \"narcosobrinos\" se refiere a un caso de narcotráfico ocurrido en 2015 en Venezuela e involucró a dos sobrinos de la ahora ex primera dama venezolana, Cilia Flores. Los hechos principales fueron:\n",
      "\n",
      "- Efraín Antonio Campo Flores y Franqui Francisco Flores de Freitas, sobrinos de Cilia Flores y por tanto familiares cercanos al expresidente Nicolás Maduro, fueron detenidos en Haití en 2015 cuando intentaban hacer una entrega de 800 kilos de cocaína a supuestos miembros del cartel de Sinaloa en México.\n",
      "\n",
      "- Fueron acusados en Estados Unidos de haber utilizado identidades diplomáticas falsas y facturar la droga como \"carga de asistencia humanitaria\" en Venezuela para sacarla del país.\n",
      "\n",
      "- El juicio demostró que los narcosobrinos buscaban hacer negocios con el cartel mexicano usando sus contactos en el gobierno venezolano.\n",
      "\n",
      "- En 2017 fueron declarados culpables en una corte de Nueva York y condenados a 18 años de prisión por narcotráfico.\n",
      "\n",
      "- El caso generó un gran escándalo y cuestionamientos sobre el supuesto involucramiento del alto gobierno venezolano en el narcotráfico, dada la cercanía familiar de los implicados con Maduro y Flores.\n"
     ]
    }
   ],
   "source": [
    "question='Cuál es el escándalo por los carrotanques?'\n",
    "\n",
    "print(answer_question(question, boto3_bedrock))"
   ]
  },
  {
   "cell_type": "markdown",
   "id": "7eea22e7-54ff-4c68-a5ba-d1d30d5818d7",
   "metadata": {},
   "source": [
    "### Retrieval Augmented Generation (RAG):"
   ]
  },
  {
   "cell_type": "code",
   "execution_count": 6,
   "id": "12998b85-7a84-4c1c-bb7e-be8f45013089",
   "metadata": {},
   "outputs": [],
   "source": [
    "df = pd.read_csv(\"noticias_politica_2024.csv\")"
   ]
  },
  {
   "cell_type": "code",
   "execution_count": 7,
   "id": "20d84af0-d966-4f78-96ff-bd01f001e4c3",
   "metadata": {},
   "outputs": [],
   "source": [
    "df['embedding'] = ''\n",
    "for i in range(len(df)):\n",
    "    df.at[i, 'embedding'] = get_embedding(df.loc[i, 'content'], boto3_bedrock)"
   ]
  },
  {
   "cell_type": "code",
   "execution_count": 8,
   "id": "dec3faa9-6b9b-4d09-89ca-490e73afcfcb",
   "metadata": {},
   "outputs": [
    {
     "data": {
      "text/html": [
       "<div>\n",
       "<style scoped>\n",
       "    .dataframe tbody tr th:only-of-type {\n",
       "        vertical-align: middle;\n",
       "    }\n",
       "\n",
       "    .dataframe tbody tr th {\n",
       "        vertical-align: top;\n",
       "    }\n",
       "\n",
       "    .dataframe thead th {\n",
       "        text-align: right;\n",
       "    }\n",
       "</style>\n",
       "<table border=\"1\" class=\"dataframe\">\n",
       "  <thead>\n",
       "    <tr style=\"text-align: right;\">\n",
       "      <th></th>\n",
       "      <th>content</th>\n",
       "      <th>date</th>\n",
       "      <th>headline</th>\n",
       "      <th>description</th>\n",
       "      <th>embedding</th>\n",
       "    </tr>\n",
       "  </thead>\n",
       "  <tbody>\n",
       "    <tr>\n",
       "      <th>0</th>\n",
       "      <td>En el expediente contra la campaña Petro Presi...</td>\n",
       "      <td>2024-05-13T00:30:32.386Z</td>\n",
       "      <td>Expediente contra Petro: CNE afirma que se omi...</td>\n",
       "      <td>Estos son los hallazgos sobre el uso de una ae...</td>\n",
       "      <td>[0.38358792662620544, -0.3096645772457123, 0.0...</td>\n",
       "    </tr>\n",
       "    <tr>\n",
       "      <th>1</th>\n",
       "      <td>No paran los ataques del presidente de la Repú...</td>\n",
       "      <td>2024-05-12T23:12:48.839Z</td>\n",
       "      <td>Petro se pegó de Bernie Sanders para atacar a ...</td>\n",
       "      <td>El jefe de Estado en una publicación en su cue...</td>\n",
       "      <td>[0.408599317073822, -0.10449740290641785, 0.21...</td>\n",
       "    </tr>\n",
       "    <tr>\n",
       "      <th>2</th>\n",
       "      <td>SEMANA: Usted hizo parte del Consejo Superior ...</td>\n",
       "      <td>2024-05-13T15:03:00.019Z</td>\n",
       "      <td>“Recomiendo a Petro que vaya al psicólogo porq...</td>\n",
       "      <td>El reconocido psicólogo Humberto Rosanía, quie...</td>\n",
       "      <td>[0.30658578872680664, -0.319197416305542, 0.28...</td>\n",
       "    </tr>\n",
       "    <tr>\n",
       "      <th>3</th>\n",
       "      <td>No guardó silencio el presidente de la Repúbli...</td>\n",
       "      <td>2024-05-12T20:07:33.567Z</td>\n",
       "      <td>Petro responde con risa a acusaciones de Anton...</td>\n",
       "      <td>El jefe de Estado se pronunció en sus redes so...</td>\n",
       "      <td>[0.32899171113967896, -0.30707383155822754, 0....</td>\n",
       "    </tr>\n",
       "    <tr>\n",
       "      <th>4</th>\n",
       "      <td>Este domingo 12 de mayo, el alcalde de Bogotá,...</td>\n",
       "      <td>2024-05-12T18:29:39.661Z</td>\n",
       "      <td>Alcalde Carlos Fernando Galán anuncia su prime...</td>\n",
       "      <td>El mandatario de Bogotá busca financiación par...</td>\n",
       "      <td>[0.20697084069252014, -0.497946172952652, 0.02...</td>\n",
       "    </tr>\n",
       "    <tr>\n",
       "      <th>...</th>\n",
       "      <td>...</td>\n",
       "      <td>...</td>\n",
       "      <td>...</td>\n",
       "      <td>...</td>\n",
       "      <td>...</td>\n",
       "    </tr>\n",
       "    <tr>\n",
       "      <th>835</th>\n",
       "      <td>De manera sorpresiva, el presidente de la Repú...</td>\n",
       "      <td>2024-04-10T16:11:45.297Z</td>\n",
       "      <td>Presidente Petro reveló que en Caracas sostuvo...</td>\n",
       "      <td>El martes (9 de abril), el jefe de Estado tuvo...</td>\n",
       "      <td>[0.6004253625869751, -0.428305983543396, 0.350...</td>\n",
       "    </tr>\n",
       "    <tr>\n",
       "      <th>836</th>\n",
       "      <td>El alcalde de Bogotá, Carlos Fernando Galán, c...</td>\n",
       "      <td>2024-04-10T15:32:24.729Z</td>\n",
       "      <td>Atención: alcalde Carlos Fernando Galán anunci...</td>\n",
       "      <td>El mandatario aseguró que hubo operativos en t...</td>\n",
       "      <td>[0.7651423215866089, -0.14719359576702118, -0....</td>\n",
       "    </tr>\n",
       "    <tr>\n",
       "      <th>837</th>\n",
       "      <td>El expresidente Álvaro Uribe se refirió a la d...</td>\n",
       "      <td>2024-04-10T15:28:41.947Z</td>\n",
       "      <td>Álvaro Uribe asegura que su llamado a juicio e...</td>\n",
       "      <td>El exmandatario se refirió a la decisión judic...</td>\n",
       "      <td>[0.5359693169593811, -0.2784307897090912, 0.16...</td>\n",
       "    </tr>\n",
       "    <tr>\n",
       "      <th>838</th>\n",
       "      <td>El sistema de salud está en crisis. Esa es una...</td>\n",
       "      <td>2024-04-10T15:17:32.108Z</td>\n",
       "      <td>Grave alerta de las EPS por “complejo” panoram...</td>\n",
       "      <td>Ana María Vesga, presidenta de Acemi, el gremi...</td>\n",
       "      <td>[0.35191458463668823, -0.2653442621231079, 0.2...</td>\n",
       "    </tr>\n",
       "    <tr>\n",
       "      <th>839</th>\n",
       "      <td>El expresidente Álvaro Uribe Vélez rompe el si...</td>\n",
       "      <td>2024-04-10T14:50:41.950Z</td>\n",
       "      <td>Las 10 frases más reveladoras de la respuesta ...</td>\n",
       "      <td>El exmandatario colombiano se pronunció sobre ...</td>\n",
       "      <td>[0.623603880405426, -0.22473417222499847, 0.26...</td>\n",
       "    </tr>\n",
       "  </tbody>\n",
       "</table>\n",
       "<p>840 rows × 5 columns</p>\n",
       "</div>"
      ],
      "text/plain": [
       "                                               content  \\\n",
       "0    En el expediente contra la campaña Petro Presi...   \n",
       "1    No paran los ataques del presidente de la Repú...   \n",
       "2    SEMANA: Usted hizo parte del Consejo Superior ...   \n",
       "3    No guardó silencio el presidente de la Repúbli...   \n",
       "4    Este domingo 12 de mayo, el alcalde de Bogotá,...   \n",
       "..                                                 ...   \n",
       "835  De manera sorpresiva, el presidente de la Repú...   \n",
       "836  El alcalde de Bogotá, Carlos Fernando Galán, c...   \n",
       "837  El expresidente Álvaro Uribe se refirió a la d...   \n",
       "838  El sistema de salud está en crisis. Esa es una...   \n",
       "839  El expresidente Álvaro Uribe Vélez rompe el si...   \n",
       "\n",
       "                         date  \\\n",
       "0    2024-05-13T00:30:32.386Z   \n",
       "1    2024-05-12T23:12:48.839Z   \n",
       "2    2024-05-13T15:03:00.019Z   \n",
       "3    2024-05-12T20:07:33.567Z   \n",
       "4    2024-05-12T18:29:39.661Z   \n",
       "..                        ...   \n",
       "835  2024-04-10T16:11:45.297Z   \n",
       "836  2024-04-10T15:32:24.729Z   \n",
       "837  2024-04-10T15:28:41.947Z   \n",
       "838  2024-04-10T15:17:32.108Z   \n",
       "839  2024-04-10T14:50:41.950Z   \n",
       "\n",
       "                                              headline  \\\n",
       "0    Expediente contra Petro: CNE afirma que se omi...   \n",
       "1    Petro se pegó de Bernie Sanders para atacar a ...   \n",
       "2    “Recomiendo a Petro que vaya al psicólogo porq...   \n",
       "3    Petro responde con risa a acusaciones de Anton...   \n",
       "4    Alcalde Carlos Fernando Galán anuncia su prime...   \n",
       "..                                                 ...   \n",
       "835  Presidente Petro reveló que en Caracas sostuvo...   \n",
       "836  Atención: alcalde Carlos Fernando Galán anunci...   \n",
       "837  Álvaro Uribe asegura que su llamado a juicio e...   \n",
       "838  Grave alerta de las EPS por “complejo” panoram...   \n",
       "839  Las 10 frases más reveladoras de la respuesta ...   \n",
       "\n",
       "                                           description  \\\n",
       "0    Estos son los hallazgos sobre el uso de una ae...   \n",
       "1    El jefe de Estado en una publicación en su cue...   \n",
       "2    El reconocido psicólogo Humberto Rosanía, quie...   \n",
       "3    El jefe de Estado se pronunció en sus redes so...   \n",
       "4    El mandatario de Bogotá busca financiación par...   \n",
       "..                                                 ...   \n",
       "835  El martes (9 de abril), el jefe de Estado tuvo...   \n",
       "836  El mandatario aseguró que hubo operativos en t...   \n",
       "837  El exmandatario se refirió a la decisión judic...   \n",
       "838  Ana María Vesga, presidenta de Acemi, el gremi...   \n",
       "839  El exmandatario colombiano se pronunció sobre ...   \n",
       "\n",
       "                                             embedding  \n",
       "0    [0.38358792662620544, -0.3096645772457123, 0.0...  \n",
       "1    [0.408599317073822, -0.10449740290641785, 0.21...  \n",
       "2    [0.30658578872680664, -0.319197416305542, 0.28...  \n",
       "3    [0.32899171113967896, -0.30707383155822754, 0....  \n",
       "4    [0.20697084069252014, -0.497946172952652, 0.02...  \n",
       "..                                                 ...  \n",
       "835  [0.6004253625869751, -0.428305983543396, 0.350...  \n",
       "836  [0.7651423215866089, -0.14719359576702118, -0....  \n",
       "837  [0.5359693169593811, -0.2784307897090912, 0.16...  \n",
       "838  [0.35191458463668823, -0.2653442621231079, 0.2...  \n",
       "839  [0.623603880405426, -0.22473417222499847, 0.26...  \n",
       "\n",
       "[840 rows x 5 columns]"
      ]
     },
     "execution_count": 8,
     "metadata": {},
     "output_type": "execute_result"
    }
   ],
   "source": [
    "df"
   ]
  },
  {
   "cell_type": "code",
   "execution_count": 29,
   "id": "124f5916-e287-4ed7-9ceb-004a55d3ab8a",
   "metadata": {},
   "outputs": [
    {
     "data": {
      "text/plain": [
       "0      [0.38358792662620544, -0.3096645772457123, 0.0...\n",
       "1      [0.408599317073822, -0.10449740290641785, 0.21...\n",
       "2      [0.30658578872680664, -0.319197416305542, 0.28...\n",
       "3      [0.32899171113967896, -0.30707383155822754, 0....\n",
       "4      [0.20697084069252014, -0.497946172952652, 0.02...\n",
       "                             ...                        \n",
       "835    [0.6004253625869751, -0.428305983543396, 0.350...\n",
       "836    [0.7651423215866089, -0.14719359576702118, -0....\n",
       "837    [0.5359693169593811, -0.2784307897090912, 0.16...\n",
       "838    [0.35191458463668823, -0.2653442621231079, 0.2...\n",
       "839    [0.623603880405426, -0.22473417222499847, 0.26...\n",
       "Name: embedding, Length: 840, dtype: object"
      ]
     },
     "execution_count": 29,
     "metadata": {},
     "output_type": "execute_result"
    }
   ],
   "source": [
    "df['embedding']"
   ]
  },
  {
   "cell_type": "code",
   "execution_count": 9,
   "id": "b7b27447-8502-4067-a6b2-52cee8bbca7c",
   "metadata": {},
   "outputs": [
    {
     "data": {
      "text/plain": [
       "'En el expediente contra la campaña Petro Presidente de 2022 reposan pruebas sobre la presunta omisión del reporte de las horas de vuelo que se contrataron con la compañía Sociedad Aérea de Ibagué S.A.S., conocida también como Sadi.La cuestión de la avioneta que llevó a Gustavo Petro en algunas de sus correrías por todo el país venía siendo objeto de debate de la opinión pública desde hace varios meses, pero ahora el Consejo Nacional Electoral (CNE) lo tuvo en cuenta para abrir la investigación contra el actual mandatario.“Se observa la presunta manipulación de la información en relación con la generación de pagos por servicios de transporte aéreo realizados por la empresa Sadi toda vez que, de acuerdo a la información allegada por la Dian, se logra evidenciar la generación sistemática de facturas electrónicas que posteriormente son objeto de anulación, generando en consecuencia, una nueva facturación que modifica el valor y el concepto inicial”, se lee en el documento presentado por los magistrados.Esa conclusión es el resultado del cruce de la información proferida por la Dian, lo reportado por la campaña en la plataforma Cuentas Claras del CNE y el contrato que esta última suscribió con la Sadi para el servicio de transporte aéreo.La Sadi generó tres facturas de las que dos fueron anuladas. Entre la expedición de la primera de estas y la última se evidenció una disminución en la cantidad de horas de vuelo y, por ende, en el monto facturado. El 28 de mayo se expidió una factura por $4.019 millones, ese documentó se anuló y se realizó otro por $2.270 millones con fecha del 29 de ese mes, para luego crear otro por $2.770 millones el día 30. De las tres facturas mencionadas, las dos primeras fueron anuladas.“Esta conducta obedece a una posible manipulación de cifras con el fin de no vulnerar el límite al tope de gastos establecidos por la Corporación”, se lee en el expediente. Quien suscribió ese contrato fue el exgerente de campaña, Ricardo Roa Barragán, quien en la actualidad ejerce como presidente de Ecopetrol.Sin embargo, el presidente Petro ha negado esas menciones y asevera que durante la contienda no dejó de reportarse ninguna hora de vuelo. “Aquí se quiere avalar un informe de ponencia falso. No hay ninguna hora de avión no reportada. Todo aparece en los gastos de campaña reportados en el momento en que se gasto (sic)”, escribió el mandatario en su cuenta de X.El contrato de la campaña Petro Presidente con la Sadi para el servicio de avioneta fue suscrito el 30 de marzo de 2022 y este tenía como fecha de finalización el día 29 de mayo de ese mismo año, un periodo prorrogable si Gustavo Petro pasaba a la segunda vuelta presidencial.“De la revisión de la facturación electrónica emitida por la Sociedad Aérea de Ibagué S.A.S. Sadi se concluye que existe una clara manipulación y/o modificación sistemática de las cifras con relación a los valores pactados en la factura SA 4862 de la cual se infiere se prestaron los servicios de transporte aéreo”, detalla el expediente presentado por los magistrados del CNE contra la campaña Petro Presidente.Los investigadores advierten que el valor real de las horas de vuelo contratadas por la campaña Petro Presidente es de $4.019 millones, pero acusan a ese proyecto político de haber modificado los valores hasta omitir $1.249 millones.La avioneta de la empresa Sadi que estuvo al servicio de la campaña presidencial de Gustavo Petro fue avión de placa HK5328, pero llama la atención que este cuenta con permisos de vuelo de la empresa Strategic Business Aviation, a pesar de que esa compañía no registra facturas a título de la campaña. “Se infiere una irregular facturación por parte de la empresa Sadi”, se lee en el documento.Hay otra posible irregularidad sobre ese renglón de la investigación: “De conformidad con la información allegada al plenario por la empresa Sociedad Aérea de Ibagué Sadi se detallan treinta y tres (33) bitácoras de vuelo, equivalentes a setenta y tres (73) permisos aéreos operados desde el 1 de abril hasta el 23 de mayo de 2022, no obstante, tal información difiere de la allegada por la Aeronáutica Civil quien relacionó para el interregno en mención un total de ochenta y ocho (88) permisos”.'"
      ]
     },
     "execution_count": 9,
     "metadata": {},
     "output_type": "execute_result"
    }
   ],
   "source": [
    "df.loc[0, 'content']"
   ]
  },
  {
   "cell_type": "code",
   "execution_count": 37,
   "id": "bbb9dce1-2e94-4f11-82cc-5d382ed9cd03",
   "metadata": {},
   "outputs": [],
   "source": [
    "question='Cuál es el escándalo por los carrotanques?'"
   ]
  },
  {
   "cell_type": "code",
   "execution_count": 38,
   "id": "208b2701-d735-4cd2-be20-46f38fb42c20",
   "metadata": {},
   "outputs": [],
   "source": [
    "top_indices=compute_closest_texts(question, df, boto3_bedrock, embedding_column = 'embedding')"
   ]
  },
  {
   "cell_type": "code",
   "execution_count": 39,
   "id": "1e532fe2-3912-4800-a77d-e4c97a3e316f",
   "metadata": {},
   "outputs": [
    {
     "data": {
      "text/plain": [
       "'Un escándalo de corrupción estalló en Colombia el 3 de mayo, luego de que Sneyder Pinilla, quien fuera subdirector de manejo del riesgo en la Unidad Nacional de Gestión del Riesgo de Desastres (UNGRD), testificara sobre las investigaciones que se adelantan en el caso de los carrotanque para la Guajira. Mientras avanzan las indagaciones, salió a relucir un video en el que el hoy presidente Gustavo Petro, promocionaba la candidatura de Olmedo López, exdirector de la UNGRD, que salió salpicado en el escándalo.En el video promocional, el hoy mandatario de los colombianos recomendaba a los ciudadanos que votaran “por gente decente”, en alusión al partido por el cual se lanzó al Senado Olmedo López. “Este 11 de marzo, no vote por los corruptos al Congreso de la República”, decía Petro en la pieza audiovisual, en invitaba a depositar el voto “en Senado y Cámara, por Decentes”.‘Nace para quitarle $50 billones a la corrupción’Luego del espaldarazo que le daba Petro al partido Decentes, aparecía Olmedo López contando la razón que había llevado al nacimiento de ese partido: “Nace para quitarle 50 billones de pesos a la corrupción, dinero que se roban en Colombia cada año”, dice en el video.Hay que recordar que Pinilla denunció que se habrían dado millonarios sobornos a los presidentes del Senado, Iván Name, y de la Cámara, Andrés Calle, con plata sacada de la UNGRD, para que aprobaran las polémicas reformas sociales del Ejecutivo. El dinero, presuntamente, salió del contrato de los carrotanques que se iban a llevar a la Guajira, tema que es materia de investigación de varios organismos de control y está en manos de la Fiscalía.'"
      ]
     },
     "execution_count": 39,
     "metadata": {},
     "output_type": "execute_result"
    }
   ],
   "source": [
    "df.loc[top_indices[0], 'content']"
   ]
  },
  {
   "cell_type": "code",
   "execution_count": 40,
   "id": "ac00a45f-f901-44b1-9604-df7048328946",
   "metadata": {},
   "outputs": [
    {
     "data": {
      "text/plain": [
       "'El director de la Unidad Nacional de Gestión del Riesgo, Carlos Carrillo, reconoció una vez más que la entidad que dirige fue cooptada por la corrupción. Lo hizo este lunes 6 de mayo desde la localidad de Ciudad Bolívar, en Bogotá.“Y no en este gobierno, esto viene desde que se creó la entidad. Esa clase política no se fue el 7 de agosto de 2022, a esa clase política corrupta todavía nos sigue correspondiendo sacarla del Gobierno. Sacarla“, dijo. El público que asistía al auditorio aplaudió.Carrillo manifestó: “Se colaron unos y traicionaron al señor presidente Gustavo Petro y traicionaron el proyecto de cambio. Esas personas no caben en este gobierno”.Los corruptos, añadió, “que se vayan a la derecha, al centro, pero en la izquierda no tienen espacio. No lo pueden tener. Eso es lo que estamos haciendo. Yo quisiera ver que otro gobierno hubiera sido capaz de coger la UNGRD, que es tan poderosa, y abrir la caja de pandora. Ninguno”.Carrillo intenta desmarcar al gobierno de Gustavo Petro del escándalo que toca a la Unidad Nacional de Gestión del Riesgo, que el país conoció porque el exdirector Olmedo López y el subdirector Sneyder Pinilla, ambos contratados en el actual mandato, empezaron a encender el ventilador y a contar qué se escondía detrás de un millonario contrato de compra de 40 carrotanques que no sirvieron en La Guajira. Fiscalía, Contraloría y Procuraduría investigan presuntos sobrecostos e incumplimientos.Aunque nadie desconoce los focos de corrupción en años anteriores, está claro que Olmedo López llegó a la dirección de la Unidad Nacional del Riesgo porque el presidente Gustavo Petro así lo consideró. Él lo nombró y lo posesionó.De hecho, el propio Carrillo reconoció en su momento que López llegó a la Casa de Nariño por cercanía con el sector político de la senadora del Pacto Histórico Clara López y el exalcalde de Medellín Daniel Quintero. Ambos han desmentido esas versiones.Además, la compra de los carrotanques, de donde supuestamente habrían salido los 3.000 millones de pesos para el presidente del Senado, Iván Name, y los 1.000 para el presidente de la Cámara, Andrés Calle, fueron contratados por este gobierno.El propio Olmedo López, a nombre del presidente Gustavo Petro, presentó los vehículos en febrero de 2024 en el coliseo de Uribia, Guajira. Los pobladores, carentes de agua, aplaudieron la iniciativa y pensaron que el cambio por fin había llegado a esa región del país.Tras el escándalo, los Wayuu, los más afectados con los sobrecostos porque varias inversiones se detuvieron para la Alta Guajira, comprendieron que el agua prometida por Petro, a través de los carrotanques, no llegó.Con el ruido de la corrupción a cuestas, los indígenas soportaron la inclemencia del fenómeno de El Niño, que prolongó la sequía durante varias semanas en el desierto.En la primera semana de mayo, tal como lo preveían, primero llegaron las lluvias, antes de que el Gobierno nacional definiera qué va a pasar con los carrotanques que se necesitan para mover agua, así sea en las zonas más cercanas al casco urbano de Uribia.'"
      ]
     },
     "execution_count": 40,
     "metadata": {},
     "output_type": "execute_result"
    }
   ],
   "source": [
    "df.loc[top_indices[1], 'content']"
   ]
  },
  {
   "cell_type": "code",
   "execution_count": 41,
   "id": "07958b04-ed91-496a-ae27-69d510e32b41",
   "metadata": {},
   "outputs": [
    {
     "data": {
      "text/plain": [
       "'Luis Fernando Velasco descartó que tenga que ver algo con el escándalo de los carrotanques parqueados en La Guajira. Le respondió al exdirector Olmedo López quien sugirió en una entrevista que el alto funcionario del Gobierno estaría relacionado.“Es el típico caso del raterito que lo cogen con las manos en la masa y trata de generar una confusión para que la gente intente ver hacia otro lado. No ha habido señalamientos porque, si hay señalamientos, yo reaccionaré jurídicamente. Todo son rumores”, detalló el ministro Velasco.Velasco aclaró que no tiene nada que ver con el escándalo. “No firmé un solo contrato o convenio. Atendí la emergencia del Nevado del Ruiz con un convenio que tenía con las fuerzas militares”, dijo.El ministro del Interior llegó acompañado al búnker de la Fiscalía junto a su abogado defensor Ernesto Velasco Chaves, junto a quien presentó una demanda por injuria y calumnia en contra de Silvio Ramírez, un ciudadano que lo relacionó con el escándalo de los carrotanques que están parqueados en La Guajira, contratados por la UNGRD que estuvo a cargo del exdirector de la entidad, Olmedo López.“Recientemente se filtra un escándalo de la UNGRD que dirigí menos de 30 días, me tocó manejar la crisis del Nevado del Ruiz. No firmé ningún contrato, no firmé ningún convenio, simplemente seguí un convenio de las Fuerzas Militares y les entregué los recursos para que con su maquinaria hicieran las obras que se necesitaban en una eventual evacuación de la gente en la zona del Nevado del Ruiz en el Tolima, Risaralda y Caldas”, afirmó Velasco.El ministro del Interior cuestionó que Ramírez lo haya acusado directamente de un delito que según él nunca cometió. “No tengo absolutamente nada que ver. Siento que en el país está cambiando el debate político por el sicariato de las redes. No estoy dispuesto a aceptar eso”, dijo. “Defiendo mi nombre y no voy a permitir que nadie juegue con él”, agregó.Sobre el caso puntual del escándalo de los carrotanques de La Guajira, en los que supuestamente habría estado relacionado el ministro, según declaraciones de Olmedo López y Sneyder Pinilla, dos de los exfuncionarios implicados, Velasco negó cualquier vínculo.“Me parece asqueroso lo que hicieron con la UNGRD en La Guajira. Me parece que la Fiscalía tiene que investigar hasta el último elemento de lo que ahí ha pasado. No soy quien para decir si algún funcionario, servidor, congresista tenga alguna responsabilidad porque como yo viví una calumnia, injuria y falso testimonio, tengo que ser muy cuidadoso al simplemente recoger a un bandido que lo cogieron con las manos en la masa y que a veces siento que está tratando de desviar la atención”, señaló Velasco.El ministro del Interior se refirió a López, sobre quien dijo que “es el típico raterito que lo cogen con las manos en la masa y trata de generar una confusión para que la gente voltee a ver para otro lado”, aseguró. Y pidió que la Fiscalía investigue sobre este hecho.Velasco aseguró que no considera que haya señalamientos concretos en su contra, pero que si los llega a haber reaccionará jurídicamente. “No hay señalamientos, solo rumores y rumores”, afirmó.Sobre el caso puntual de Sneyder Pinilla, exsubdirector de la UNGRD, Velasco dijo que no lo conoció y recordó que fue nombrado en ese cargo por Olmedo López. “Le pido a Sneyder Pinilla que le cuente a Colombia toda la verdad. No se guarde nada. Este país necesita la verdad”, aseguró Velasco.El ministro del Interior le pidió a la Fiscalía que pueda investigar lo que ha pasado en la UNGRD previo a esa dirección que está siendo cuestionada. “Hay que vigilar lo que fue el manejo de la emergencia en Providencia, revisar lo de Mocoa, pero eso lo tendrá que investigar la Fiscalía General”, dijo. Y aclaró que que si es citado acudirá a la justicia a hacer todas las aclaraciones.'"
      ]
     },
     "execution_count": 41,
     "metadata": {},
     "output_type": "execute_result"
    }
   ],
   "source": [
    "df.loc[top_indices[2], 'content']"
   ]
  },
  {
   "cell_type": "code",
   "execution_count": 42,
   "id": "950e6a27-f0f5-4e86-b055-1abc793e711d",
   "metadata": {},
   "outputs": [],
   "source": [
    "top_indices=compute_closest_texts(question, df, boto3_bedrock, embedding_column = 'embedding')\n",
    "\n",
    "prompt = f\"\"\"\n",
    "<task_instructions> Eres un experto en política colombiana. El usuario te va a hacer una pregunta\n",
    "y tú debes responderla basado en los textos de contexto que están a continuación. Evita\n",
    "decir cosas que no se mencionen en los textos. Tu respuesta debe ser escrita en un párrafo y evita\n",
    "escribirla como una lista de puntos.\n",
    "\"\"\"\n",
    "\n",
    "num_contexts = 5\n",
    "\n",
    "for i in range(num_contexts):\n",
    "    prompt += f\"\"\" \n",
    "    <context_text>\n",
    "    {df.loc[top_indices[i], 'content']}\n",
    "    </context_text>\n",
    "    \"\"\""
   ]
  },
  {
   "cell_type": "code",
   "execution_count": 43,
   "id": "93198bef-3466-439c-9076-7f492d74112b",
   "metadata": {},
   "outputs": [
    {
     "name": "stdout",
     "output_type": "stream",
     "text": [
      "\n",
      "<task_instructions> Eres un experto en política colombiana. El usuario te va a hacer una pregunta\n",
      "y tú debes responderla basado en los textos de contexto que están a continuación. Evita\n",
      "decir cosas que no se mencionen en los textos. Tu respuesta debe ser escrita en un párrafo y evita\n",
      "escribirla como una lista de puntos.\n",
      " \n",
      "    <context_text>\n",
      "    Un escándalo de corrupción estalló en Colombia el 3 de mayo, luego de que Sneyder Pinilla, quien fuera subdirector de manejo del riesgo en la Unidad Nacional de Gestión del Riesgo de Desastres (UNGRD), testificara sobre las investigaciones que se adelantan en el caso de los carrotanque para la Guajira. Mientras avanzan las indagaciones, salió a relucir un video en el que el hoy presidente Gustavo Petro, promocionaba la candidatura de Olmedo López, exdirector de la UNGRD, que salió salpicado en el escándalo.En el video promocional, el hoy mandatario de los colombianos recomendaba a los ciudadanos que votaran “por gente decente”, en alusión al partido por el cual se lanzó al Senado Olmedo López. “Este 11 de marzo, no vote por los corruptos al Congreso de la República”, decía Petro en la pieza audiovisual, en invitaba a depositar el voto “en Senado y Cámara, por Decentes”.‘Nace para quitarle $50 billones a la corrupción’Luego del espaldarazo que le daba Petro al partido Decentes, aparecía Olmedo López contando la razón que había llevado al nacimiento de ese partido: “Nace para quitarle 50 billones de pesos a la corrupción, dinero que se roban en Colombia cada año”, dice en el video.Hay que recordar que Pinilla denunció que se habrían dado millonarios sobornos a los presidentes del Senado, Iván Name, y de la Cámara, Andrés Calle, con plata sacada de la UNGRD, para que aprobaran las polémicas reformas sociales del Ejecutivo. El dinero, presuntamente, salió del contrato de los carrotanques que se iban a llevar a la Guajira, tema que es materia de investigación de varios organismos de control y está en manos de la Fiscalía.\n",
      "    </context_text>\n",
      "     \n",
      "    <context_text>\n",
      "    El director de la Unidad Nacional de Gestión del Riesgo, Carlos Carrillo, reconoció una vez más que la entidad que dirige fue cooptada por la corrupción. Lo hizo este lunes 6 de mayo desde la localidad de Ciudad Bolívar, en Bogotá.“Y no en este gobierno, esto viene desde que se creó la entidad. Esa clase política no se fue el 7 de agosto de 2022, a esa clase política corrupta todavía nos sigue correspondiendo sacarla del Gobierno. Sacarla“, dijo. El público que asistía al auditorio aplaudió.Carrillo manifestó: “Se colaron unos y traicionaron al señor presidente Gustavo Petro y traicionaron el proyecto de cambio. Esas personas no caben en este gobierno”.Los corruptos, añadió, “que se vayan a la derecha, al centro, pero en la izquierda no tienen espacio. No lo pueden tener. Eso es lo que estamos haciendo. Yo quisiera ver que otro gobierno hubiera sido capaz de coger la UNGRD, que es tan poderosa, y abrir la caja de pandora. Ninguno”.Carrillo intenta desmarcar al gobierno de Gustavo Petro del escándalo que toca a la Unidad Nacional de Gestión del Riesgo, que el país conoció porque el exdirector Olmedo López y el subdirector Sneyder Pinilla, ambos contratados en el actual mandato, empezaron a encender el ventilador y a contar qué se escondía detrás de un millonario contrato de compra de 40 carrotanques que no sirvieron en La Guajira. Fiscalía, Contraloría y Procuraduría investigan presuntos sobrecostos e incumplimientos.Aunque nadie desconoce los focos de corrupción en años anteriores, está claro que Olmedo López llegó a la dirección de la Unidad Nacional del Riesgo porque el presidente Gustavo Petro así lo consideró. Él lo nombró y lo posesionó.De hecho, el propio Carrillo reconoció en su momento que López llegó a la Casa de Nariño por cercanía con el sector político de la senadora del Pacto Histórico Clara López y el exalcalde de Medellín Daniel Quintero. Ambos han desmentido esas versiones.Además, la compra de los carrotanques, de donde supuestamente habrían salido los 3.000 millones de pesos para el presidente del Senado, Iván Name, y los 1.000 para el presidente de la Cámara, Andrés Calle, fueron contratados por este gobierno.El propio Olmedo López, a nombre del presidente Gustavo Petro, presentó los vehículos en febrero de 2024 en el coliseo de Uribia, Guajira. Los pobladores, carentes de agua, aplaudieron la iniciativa y pensaron que el cambio por fin había llegado a esa región del país.Tras el escándalo, los Wayuu, los más afectados con los sobrecostos porque varias inversiones se detuvieron para la Alta Guajira, comprendieron que el agua prometida por Petro, a través de los carrotanques, no llegó.Con el ruido de la corrupción a cuestas, los indígenas soportaron la inclemencia del fenómeno de El Niño, que prolongó la sequía durante varias semanas en el desierto.En la primera semana de mayo, tal como lo preveían, primero llegaron las lluvias, antes de que el Gobierno nacional definiera qué va a pasar con los carrotanques que se necesitan para mover agua, así sea en las zonas más cercanas al casco urbano de Uribia.\n",
      "    </context_text>\n",
      "     \n",
      "    <context_text>\n",
      "    Luis Fernando Velasco descartó que tenga que ver algo con el escándalo de los carrotanques parqueados en La Guajira. Le respondió al exdirector Olmedo López quien sugirió en una entrevista que el alto funcionario del Gobierno estaría relacionado.“Es el típico caso del raterito que lo cogen con las manos en la masa y trata de generar una confusión para que la gente intente ver hacia otro lado. No ha habido señalamientos porque, si hay señalamientos, yo reaccionaré jurídicamente. Todo son rumores”, detalló el ministro Velasco.Velasco aclaró que no tiene nada que ver con el escándalo. “No firmé un solo contrato o convenio. Atendí la emergencia del Nevado del Ruiz con un convenio que tenía con las fuerzas militares”, dijo.El ministro del Interior llegó acompañado al búnker de la Fiscalía junto a su abogado defensor Ernesto Velasco Chaves, junto a quien presentó una demanda por injuria y calumnia en contra de Silvio Ramírez, un ciudadano que lo relacionó con el escándalo de los carrotanques que están parqueados en La Guajira, contratados por la UNGRD que estuvo a cargo del exdirector de la entidad, Olmedo López.“Recientemente se filtra un escándalo de la UNGRD que dirigí menos de 30 días, me tocó manejar la crisis del Nevado del Ruiz. No firmé ningún contrato, no firmé ningún convenio, simplemente seguí un convenio de las Fuerzas Militares y les entregué los recursos para que con su maquinaria hicieran las obras que se necesitaban en una eventual evacuación de la gente en la zona del Nevado del Ruiz en el Tolima, Risaralda y Caldas”, afirmó Velasco.El ministro del Interior cuestionó que Ramírez lo haya acusado directamente de un delito que según él nunca cometió. “No tengo absolutamente nada que ver. Siento que en el país está cambiando el debate político por el sicariato de las redes. No estoy dispuesto a aceptar eso”, dijo. “Defiendo mi nombre y no voy a permitir que nadie juegue con él”, agregó.Sobre el caso puntual del escándalo de los carrotanques de La Guajira, en los que supuestamente habría estado relacionado el ministro, según declaraciones de Olmedo López y Sneyder Pinilla, dos de los exfuncionarios implicados, Velasco negó cualquier vínculo.“Me parece asqueroso lo que hicieron con la UNGRD en La Guajira. Me parece que la Fiscalía tiene que investigar hasta el último elemento de lo que ahí ha pasado. No soy quien para decir si algún funcionario, servidor, congresista tenga alguna responsabilidad porque como yo viví una calumnia, injuria y falso testimonio, tengo que ser muy cuidadoso al simplemente recoger a un bandido que lo cogieron con las manos en la masa y que a veces siento que está tratando de desviar la atención”, señaló Velasco.El ministro del Interior se refirió a López, sobre quien dijo que “es el típico raterito que lo cogen con las manos en la masa y trata de generar una confusión para que la gente voltee a ver para otro lado”, aseguró. Y pidió que la Fiscalía investigue sobre este hecho.Velasco aseguró que no considera que haya señalamientos concretos en su contra, pero que si los llega a haber reaccionará jurídicamente. “No hay señalamientos, solo rumores y rumores”, afirmó.Sobre el caso puntual de Sneyder Pinilla, exsubdirector de la UNGRD, Velasco dijo que no lo conoció y recordó que fue nombrado en ese cargo por Olmedo López. “Le pido a Sneyder Pinilla que le cuente a Colombia toda la verdad. No se guarde nada. Este país necesita la verdad”, aseguró Velasco.El ministro del Interior le pidió a la Fiscalía que pueda investigar lo que ha pasado en la UNGRD previo a esa dirección que está siendo cuestionada. “Hay que vigilar lo que fue el manejo de la emergencia en Providencia, revisar lo de Mocoa, pero eso lo tendrá que investigar la Fiscalía General”, dijo. Y aclaró que que si es citado acudirá a la justicia a hacer todas las aclaraciones.\n",
      "    </context_text>\n",
      "     \n",
      "    <context_text>\n",
      "    Martha Peralta, además de ser la presidenta de la Comisión Séptima del Senado, es congresista del Pacto Histórico y una de las dirigentes más cercanas al presidente Gustavo Petro.Como si fuera poco, es oriunda de La Guajira, el departamento que no ha podido recibir los 40 carrotanques que fueron comprados con sobrecostos por la Unidad Nacional de Gestión del Riesgo porque no funcionaron para la zona.Algunos ni siquiera tienen pólizas y siguen parqueados en un batallón del municipio de Uribia. El dinero de los sobrecostos –según denunció a SEMANA el exdirector de la UNGRD Sneyder Pinilla– fue utilizado para pagar 3.000 millones de pesos al presidente del Senado, Iván Name, y 1.000 millones al presidente de la Cámara, Andrés Calle.Peralta habló de este escándalo que sacude al Gobierno Petro y que, desde luego, afecta a su departamento.“Me da mucha tristeza que mi departamento siga siendo fuente de corrupción y que se sigan aprovechando del hambre y la sed de los niños y mi pueblo wayú”, dijo.Reconoció que siente “profundo pesar por lo que atraviesa el Gobierno del que hago parte, este ha sido el primer gobierno en la historia de Colombia que de verdad se ha comprometido con mi departamento para sacarlo del hambre y la miseria en que nos dejaron; lo que sucede hoy me tiene roto el corazón porque sé que ese no es el actuar del gobierno del cambio. Confío en el proceder de la justicia”.Agregó que le tranquiliza tener un presidente como Gustavo Petro, “incorruptible”.“Celebro sus decisiones de no permitir un solo centímetro de corrupción en Colombia, es muy raro ver eso en este país y en mi región, donde desde los más altos niveles siempre se tapaban con la misma cobija”, manifestó.Peralta dijo que tiene gran esperanza en el proyecto Misión La Guajira, una alianza del Gobierno y el Grupo Aval que hoy -sábado 4 de mayo- empezará oficialmente llevando agua al departamento. “Esperamos resultados reales, justicia, verdad y lo más importante, el bienestar de mi pueblo wayú”, manifestó.La senadora, quien fue clave para que el Gobierno pasara la reforma pensional, habló justo el día en que el presidente visitará La Guajira.Y es que en Uribia, por ejemplo, el municipio de mayor extensión rural en ese departamento, los pobladores se quedaron esperando el funcionamiento de los 40 carrotanques que fueron comprados por la Unidad Nacional de Gestión del Riesgo a precios exagerados y que no prestaron su servicio, pese a que la localidad enfrentó la inclemencia del fenómeno de El Niño.De hecho, a la región ya llegaron las lluvias, los carrotanques siguen parqueados y el Gobierno aún no decide qué suerte correrán.Por su parte, el exsubdirector de la UNGRD Sneyder Pinilla encendió el ventilador y empezó a dar nombres de altos funcionarios que, según él, participaron del entramado de corrupción con el que les entregaron millonarios recursos económicos a algunos congresistas para que votaran las reformas de Gustavo Petro.Pinilla, por ejemplo, mencionó al presidente del Senado, Iván Name, al de la Cámara, Andrés Calle; además, al ministro del Interior, Luis Fernando Velasco.Por su parte, Olmedo López tiene pruebas en contra del hoy director nacional de la Agencia de Seguridad del Estado, Carlos Ramón González.\n",
      "    </context_text>\n",
      "     \n",
      "    <context_text>\n",
      "    Como si el gobierno del presidente Gustavo Petro no tuviera líos, algunos de sus más cercanos alfiles se están sacando los ojos: se trata del exalcalde de Medellín Daniel Quintero y el director de la Unidad Nacional de Gestión del Riesgo, Carlos Carrillo.El último ha hecho fuertes denuncias en contra de Quintero. Incluso, dijo que gran parte de lo que él llama el quinterismo estaba contratado en la UNGRD, que enfrenta uno de sus mayores escándalos de corrupción.Este sábado 4 de mayo, Carrillo, cargado de tigre, después de enfrentarse durante este viernes contra el exalcalde Quintero en W Radio, dijo que cerraría el capítulo de la discusión política con el líder paisa por una razón muy sencilla: “Él es el candidato y yo tengo la enorme responsabilidad de dirigir la Unidad Nacional de Gestión del Riego, en donde él dice no tener intereses, pero hasta su mano derecha, Esteban Restrepo, nos visita. Mis debates políticos estarán en coma inducido mientras me encuentre al frente de la Unidad”, escribió en su cuenta personal de X.Junto al mensaje, Carrillo reveló el listado de personas que han ingresado a su despacho y aparece el nombre de Esteban Quintero, exsecretario de Gobierno de Medellín. Al lado se lee la frase: “Alcaldes de Antioquia”.Esa -según Restrepo- fue la razón por la cual visitó el despacho de Carlos Carrillo. “Y lo seguiré visitando, señor Carrillo, esté usted u otro funcionario. Para eso, la UNGRD es una entidad pública. Cuando quiera llevo más alcaldes de mi departamento a ver si por primera vez resuelve algo en los territorios, ya que su antecesor no pudo y usted menos”, respondió.En otro mensaje, Restrepo, aliado de Quintero, confirmó que visitó la UNGRD porque llevó a dos alcaldes de Antioquia para que los atendieran. “Por eso, es una entidad pública”, enfatizó.Lo cierto es que mientras Gustavo Petro enfrentaba una de sus peores crisis en su gobierno, Carrillo y Quintero, dos de sus grandes gladiadores, estaban enfrentados en los medios. El exalcalde de Medellín insiste en que no tiene cuotas burocráticas en la UNGRD y el hoy director dice lo contrario. De hecho, con nombre propio mencionó a algunas fichas del quinterismo en la entidad.Quintero señala a Carrillo porque nombró en la secretaría general al hermano del presidente del Senado, Iván Name, hoy en la picota pública porque habría recibido 3.000 millones de pesos del Gobierno para empujar las reformas de Petro en el Congreso, según denunció a SEMANA Sneyder Pinilla, exsubdirector de la entidad.Carlos Carrillo ha tratado de relacionar a Olmedo López, cuestionado exdirector de la UNGRD con Daniel Quintero, y el exalcalde se ha defendido y lo ha desmentido.“Director, no tengo cuotas ni allá ni en ninguna entidad del Gobierno nacional. Si hubiera querido cargos acepto el DPS y lo rechacé. Dicho eso, usted debe dejar de desviar la atención y responder las preguntas que le he hecho en lugar de responder con ataques: ¿desde cuándo sabe usted que Name estaba involucrado en el escandaloso caso de los carrotanques? ¿Por qué nombró al sobrino de Name a cuidar la contratación desde la secretaría general? ¿Por qué el interés de desviar la atención?”, preguntó.Carrillo, quien argumentó la amplia hoja de vida de Name, le respondió a Quintero y le recordó al exalcalde que “tiene más investigaciones que el covid”.\n",
      "    </context_text>\n",
      "    \n"
     ]
    }
   ],
   "source": [
    "print(prompt)"
   ]
  },
  {
   "cell_type": "code",
   "execution_count": 44,
   "id": "66a8f5dc-e5e7-41ad-a84f-757c2cdea3f4",
   "metadata": {},
   "outputs": [
    {
     "name": "stdout",
     "output_type": "stream",
     "text": [
      "El escándalo de los carrotanques se refiere a un caso de presunta corrupción en la Unidad Nacional de Gestión del Riesgo de Desastres (UNGRD) de Colombia. Según las denuncias, se habrían entregado sobornos millonarios a los presidentes del Senado y la Cámara de Representantes con dinero proveniente del contrato para la compra de 40 carrotanques que debían llevar agua a La Guajira, una región afectada por la sequía.\n",
      "\n",
      "El exsubdirector de la UNGRD, Sneyder Pinilla, reveló que se pagaron 3.000 millones de pesos al presidente del Senado, Iván Name, y 1.000 millones al presidente de la Cámara, Andrés Calle, supuestamente para que aprobaran las reformas impulsadas por el gobierno del presidente Gustavo Petro. Los carrotanques adquiridos a precios inflados nunca funcionaron correctamente en La Guajira y permanecieron parqueados sin prestar el servicio que se requería. Varios organismos de control y la Fiscalía investigan presuntos sobrecostos, irregularidades en la contratación y el posible desvío de recursos públicos en este escándalo que salpica al gobierno de Petro.\n"
     ]
    }
   ],
   "source": [
    "print(answer_question(question, boto3_bedrock, prompt))"
   ]
  },
  {
   "cell_type": "code",
   "execution_count": 25,
   "id": "dbe86b1a-5e93-4924-82ca-2fd50be727cc",
   "metadata": {},
   "outputs": [
    {
     "name": "stdout",
     "output_type": "stream",
     "text": [
      "Nicolás Petro, hijo del presidente Gustavo Petro, se ha visto involucrado en un escándalo por presuntas irregularidades en el financiamiento de la campaña presidencial de su padre en 2022. Nicolás Petro confesó ante las autoridades que recibió dineros de fuentes cuestionables, como empresarios y exnarcotraficantes, que no fueron reportados oficialmente para la campaña. Algunos de los puntos clave sobre el caso de Nicolás Petro son:\n",
      "\n",
      "Nicolás confesó haber recibido millonarios aportes en efectivo de personas como el empresario Euclides Torres, el excapo 'Hombre Marlboro' y otros, para financiar eventos y logística de la campaña de Petro. Reconoció haber desviado parte de esos dineros para su propio beneficio. \n",
      "\n",
      "Aseguró que su padre, el presidente Petro, estaba al tanto de los aportes de Euclides Torres aunque no de los detalles específicos del manejo de esos recursos.\n",
      "\n",
      "Nicolás Petro está siendo investigado por la Fiscalía por los presuntos delitos de lavado de activos y enriquecimiento ilícito por el manejo irregular de esos dineros.\n",
      "\n",
      "Sus declaraciones salpicaron a otros allegados de Petro como el senador Pedro Flórez, el representante Agmeth Escaf y empresarios, quienes habrían actuado como intermediarios en el manejo de los recursos no reportados.\n",
      "\n",
      "El caso de Nicolás Petro ha generado un fuerte escándalo y alimentado las investigaciones abiertas contra la campaña de Petro por presunto incumplimiento de topes de financiación en el Consejo Nacional Electoral y la Comisión de Acusación de la Cámara.\n"
     ]
    }
   ],
   "source": [
    "question='Qué ha pasado con Nicolás Petro?'\n",
    "prompt = enhance_prompt(question, df, boto3_bedrock)\n",
    "\n",
    "print(answer_question(question, boto3_bedrock, prompt))"
   ]
  },
  {
   "cell_type": "code",
   "execution_count": 26,
   "id": "e47a555d-a234-4f51-af72-26ed662601f6",
   "metadata": {},
   "outputs": [
    {
     "name": "stdout",
     "output_type": "stream",
     "text": [
      "El proceso de la reforma a la salud impulsada por el gobierno de Gustavo Petro ha sido bastante complejo y polémico. Inicialmente se propuso una reforma que buscaba acabar con las EPS y establecer un modelo de salud público completamente estatal. Sin embargo, esta primera propuesta fue muy criticada por diversos actores como pacientes, médicos, academia y fue finalmente archivada en el Congreso.\n",
      "\n",
      "Después de esto, el gobierno negoció con las EPS una nueva versión de la reforma que mantiene algunas ideas originales pero también incorpora varios cambios. En esta nueva versión se conserva el giro directo de recursos al Estado a través de la ADRES, se transforma a las EPS en \"Gestoras de Salud y Vida\" sin riesgo financiero, y se les da poder a gobernadores y alcaldes en la administración de hospitales públicos. \n",
      "\n",
      "No obstante, esta nueva propuesta también ha generado críticas de senadores que consideran que se mantendrán problemas estructurales, que sigue sin haber suficiente concertación con la academia y expertos, y que se desconoce la voz de pacientes y trabajadores de la salud. En general, persiste la incertidumbre y controversia sobre si esta nueva reforma logrará solucionar los problemas de fondo del sistema de salud colombiano.\n"
     ]
    }
   ],
   "source": [
    "question='Hazme un resumen sobre el estado de la reforma a la salud'\n",
    "\n",
    "prompt = enhance_prompt(question, df, boto3_bedrock)\n",
    "\n",
    "print(answer_question(question, boto3_bedrock, prompt))"
   ]
  }
 ],
 "metadata": {
  "kernelspec": {
   "display_name": "Python 3 (ipykernel)",
   "language": "python",
   "name": "python3"
  },
  "language_info": {
   "codemirror_mode": {
    "name": "ipython",
    "version": 3
   },
   "file_extension": ".py",
   "mimetype": "text/x-python",
   "name": "python",
   "nbconvert_exporter": "python",
   "pygments_lexer": "ipython3",
   "version": "3.12.6"
  }
 },
 "nbformat": 4,
 "nbformat_minor": 5
}
